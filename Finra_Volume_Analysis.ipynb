{
  "nbformat": 4,
  "nbformat_minor": 0,
  "metadata": {
    "colab": {
      "name": "Finra Volume Analysis.ipynb",
      "provenance": [],
      "collapsed_sections": [],
      "authorship_tag": "ABX9TyNs4GEfbIJnr51uf4HcvO1G"
    },
    "kernelspec": {
      "name": "python3",
      "display_name": "Python 3"
    }
  },
  "cells": [
    {
      "cell_type": "markdown",
      "metadata": {
        "id": "O146QI4cUWTn"
      },
      "source": [
        "# Finra gets data from various exchanges and posts it on a daily basis. The idea of a project is that when during 3 days in a row short volume for a specific stock moves in the same direction it is an indicator to daytrade the stock for the following day.\r\n",
        "## We got 105 such stocks for the period from Feb 16 till Feb 18. And in order to reduce that list(that we actually reduced down to just 3) we use FinViz scanner."
      ]
    },
    {
      "cell_type": "code",
      "metadata": {
        "id": "OntnD4cNjDLF"
      },
      "source": [
        "author = 'Nikolai Melnikov'\r\n",
        "author_url = 'https://www.linkedin.com/in/nikolaimelnikov/'"
      ],
      "execution_count": null,
      "outputs": []
    },
    {
      "cell_type": "markdown",
      "metadata": {
        "id": "jOfhQ_Z1JhYI"
      },
      "source": [
        "Installing packages in Colab"
      ]
    },
    {
      "cell_type": "code",
      "metadata": {
        "id": "ibaqC214ha_N"
      },
      "source": [
        "!pip install yfinance\r\n",
        "!pip install -U git+https://github.com/mariostoev/finviz"
      ],
      "execution_count": null,
      "outputs": []
    },
    {
      "cell_type": "markdown",
      "metadata": {
        "id": "2qBU_ehkJj25"
      },
      "source": [
        "Importing packages for the project"
      ]
    },
    {
      "cell_type": "code",
      "metadata": {
        "id": "BgUYwxYC8IXs"
      },
      "source": [
        "import pandas as pd\r\n",
        "import numpy as np\r\n",
        "\r\n",
        "import matplotlib.pyplot as plt\r\n",
        "import seaborn as sns\r\n",
        "sns.set_style(\"whitegrid\")\r\n",
        "\r\n",
        "from urllib.request import Request, urlopen  \r\n",
        "\r\n",
        "import datetime\r\n",
        "from datetime import date, timedelta, datetime\r\n",
        "from pytz import timezone\r\n",
        "\r\n",
        "import yfinance as yf\r\n",
        "from pandas_datareader import data as pdr\r\n",
        "from finviz.screener import Screener\r\n",
        "\r\n",
        "import nest_asyncio\r\n",
        "nest_asyncio.apply()"
      ],
      "execution_count": null,
      "outputs": []
    },
    {
      "cell_type": "markdown",
      "metadata": {
        "id": "7_TCLZLR2piF"
      },
      "source": [
        "# MAKE FOLLOWING CODE AS FUNCTION FOR SPECIFIC DAY, REMEMBER ABOUT WEEKENDS"
      ]
    },
    {
      "cell_type": "code",
      "metadata": {
        "id": "GHS3M6LKRtwh"
      },
      "source": [
        "#Creating the URL request\r\n",
        "def url(req):\r\n",
        "  req.add_header('User-Agent', 'Mozilla/5.0 (X11; Ubuntu; Linux x86_64; rv:77.0) Gecko/20100101 Firefox/77.0')\r\n",
        "  content = urlopen(req)\r\n",
        "  return content  \r\n",
        "\r\n",
        "#Creating a DF for an exchange\r\n",
        "def mini_db(content):\r\n",
        "  db = pd.read_csv(content, sep='|')\r\n",
        "  db.drop(db.tail(1).index,inplace=True)\r\n",
        "  db['Date'] =  pd.to_datetime(db['Date'], format='%Y%m%d')\r\n",
        "  db = db[['Symbol','ShortVolume', 'Date']]\r\n",
        "  return db \r\n",
        "\r\n",
        "#Combining data from exchanges for a specific date\r\n",
        "def db(df_finra, df_nasdaq_trf, df_nyse):\r\n",
        "  db = df_nyse.merge(df_nasdaq_trf, how='inner', on='Symbol')\r\n",
        "  db = db.merge(df_finra, how='inner', on='Symbol')\r\n",
        "  db.set_index('Symbol', inplace=True)\r\n",
        "  db['Date'] = db['Date_x']\r\n",
        "  db.set_index('Date', append=True, inplace=True)\r\n",
        "  db.index = db.index.reorder_levels(['Date', 'Symbol'])\r\n",
        "  db.drop(['Date_x','Date_y'], axis=1, inplace=True)\r\n",
        "  return db\r\n",
        "\r\n",
        "#Main function to get data\r\n",
        "def req(date):\r\n",
        "  req = Request(f'http://regsho.finra.org/CNMSshvol{date}.txt')\r\n",
        "  content = url(req)\r\n",
        "  df_finra = mini_db(content)\r\n",
        "\r\n",
        "  req = Request(f'http://regsho.finra.org/FNSQshvol{date}.txt')\r\n",
        "  content = url(req)\r\n",
        "  df_nasdaq_trf = mini_db(content)\r\n",
        "\r\n",
        "  req = Request(f'http://regsho.finra.org/FNYXshvol{date}.txt')\r\n",
        "  content = url(req)\r\n",
        "  df_nyse = mini_db(content)\r\n",
        "\r\n",
        "  return db(df_finra, df_nasdaq_trf, df_nyse)\r\n",
        "  \r\n",
        "#Checking a weekday\r\n",
        "def check_weekend(day):\r\n",
        "  if (day.weekday() == 6):\r\n",
        "    day = day - timedelta(days=2)\r\n",
        "  elif (day.weekday() == 5):\r\n",
        "    day = day - timedelta(days=1)\r\n",
        "  else:\r\n",
        "    pass\r\n",
        "  return day\r\n",
        "\r\n",
        "#transform date for Finra's format\r\n",
        "def date_trans(day):\r\n",
        "  return day.strftime(\"%Y\")+day.strftime(\"%m\")+day.strftime(\"%d\")\r\n",
        "\r\n",
        "#Getting dates for performing analysis\r\n",
        "def get_day(day):\r\n",
        "  day = check_weekend(day)\r\n",
        "  day_before = check_weekend(day - timedelta(days=1))\r\n",
        "  day_before_before = check_weekend(day_before - timedelta(days=1))\r\n",
        "  return date_trans(day), date_trans(day_before), date_trans(day_before_before)"
      ],
      "execution_count": null,
      "outputs": []
    },
    {
      "cell_type": "code",
      "metadata": {
        "id": "NjVF5YcE93yP"
      },
      "source": [
        "tz = timezone('EST')\r\n",
        "today = datetime.now(tz) \r\n",
        "\r\n",
        "result = get_day(today)\r\n",
        "date_start = result[0]\r\n",
        "date_before = result[1]\r\n",
        "date_before_before = result[2]\r\n",
        "\r\n",
        "analysis = req(date_start)\r\n",
        "analysis_1 = req(date_before)\r\n",
        "analysis_2 = req(date_before_before)"
      ],
      "execution_count": null,
      "outputs": []
    },
    {
      "cell_type": "code",
      "metadata": {
        "id": "CvtOrjLtfKV2"
      },
      "source": [
        "#Combine data from 3 days in a single DF\r\n",
        "df = pd.concat([analysis_2,analysis_1])\r\n",
        "df = pd.concat([df, analysis])"
      ],
      "execution_count": null,
      "outputs": []
    },
    {
      "cell_type": "code",
      "metadata": {
        "colab": {
          "base_uri": "https://localhost:8080/",
          "height": 450
        },
        "id": "GiSxJGn5fMjD",
        "outputId": "fa528504-3af2-433f-9d64-92d936ae108e"
      },
      "source": [
        "df"
      ],
      "execution_count": null,
      "outputs": [
        {
          "output_type": "execute_result",
          "data": {
            "text/html": [
              "<div>\n",
              "<style scoped>\n",
              "    .dataframe tbody tr th:only-of-type {\n",
              "        vertical-align: middle;\n",
              "    }\n",
              "\n",
              "    .dataframe tbody tr th {\n",
              "        vertical-align: top;\n",
              "    }\n",
              "\n",
              "    .dataframe thead th {\n",
              "        text-align: right;\n",
              "    }\n",
              "</style>\n",
              "<table border=\"1\" class=\"dataframe\">\n",
              "  <thead>\n",
              "    <tr style=\"text-align: right;\">\n",
              "      <th></th>\n",
              "      <th></th>\n",
              "      <th>ShortVolume_x</th>\n",
              "      <th>ShortVolume_y</th>\n",
              "      <th>ShortVolume</th>\n",
              "    </tr>\n",
              "    <tr>\n",
              "      <th>Date</th>\n",
              "      <th>Symbol</th>\n",
              "      <th></th>\n",
              "      <th></th>\n",
              "      <th></th>\n",
              "    </tr>\n",
              "  </thead>\n",
              "  <tbody>\n",
              "    <tr>\n",
              "      <th rowspan=\"5\" valign=\"top\">2021-02-16</th>\n",
              "      <th>A</th>\n",
              "      <td>19825.0</td>\n",
              "      <td>160072.0</td>\n",
              "      <td>180074.0</td>\n",
              "    </tr>\n",
              "    <tr>\n",
              "      <th>AA</th>\n",
              "      <td>95606.0</td>\n",
              "      <td>383580.0</td>\n",
              "      <td>481705.0</td>\n",
              "    </tr>\n",
              "    <tr>\n",
              "      <th>AAAU</th>\n",
              "      <td>5488.0</td>\n",
              "      <td>40264.0</td>\n",
              "      <td>45752.0</td>\n",
              "    </tr>\n",
              "    <tr>\n",
              "      <th>AAC/U</th>\n",
              "      <td>155.0</td>\n",
              "      <td>75555.0</td>\n",
              "      <td>75710.0</td>\n",
              "    </tr>\n",
              "    <tr>\n",
              "      <th>AACG</th>\n",
              "      <td>63409.0</td>\n",
              "      <td>249707.0</td>\n",
              "      <td>335763.0</td>\n",
              "    </tr>\n",
              "    <tr>\n",
              "      <th>...</th>\n",
              "      <th>...</th>\n",
              "      <td>...</td>\n",
              "      <td>...</td>\n",
              "      <td>...</td>\n",
              "    </tr>\n",
              "    <tr>\n",
              "      <th rowspan=\"5\" valign=\"top\">2021-02-18</th>\n",
              "      <th>ZVO</th>\n",
              "      <td>15323.0</td>\n",
              "      <td>25170.0</td>\n",
              "      <td>40768.0</td>\n",
              "    </tr>\n",
              "    <tr>\n",
              "      <th>ZWRKU</th>\n",
              "      <td>4678.0</td>\n",
              "      <td>11205.0</td>\n",
              "      <td>16083.0</td>\n",
              "    </tr>\n",
              "    <tr>\n",
              "      <th>ZYME</th>\n",
              "      <td>7359.0</td>\n",
              "      <td>36507.0</td>\n",
              "      <td>44380.0</td>\n",
              "    </tr>\n",
              "    <tr>\n",
              "      <th>ZYNE</th>\n",
              "      <td>556884.0</td>\n",
              "      <td>1621489.0</td>\n",
              "      <td>2204717.0</td>\n",
              "    </tr>\n",
              "    <tr>\n",
              "      <th>ZYXI</th>\n",
              "      <td>8126.0</td>\n",
              "      <td>47741.0</td>\n",
              "      <td>55867.0</td>\n",
              "    </tr>\n",
              "  </tbody>\n",
              "</table>\n",
              "<p>25419 rows × 3 columns</p>\n",
              "</div>"
            ],
            "text/plain": [
              "                   ShortVolume_x  ShortVolume_y  ShortVolume\n",
              "Date       Symbol                                           \n",
              "2021-02-16 A             19825.0       160072.0     180074.0\n",
              "           AA            95606.0       383580.0     481705.0\n",
              "           AAAU           5488.0        40264.0      45752.0\n",
              "           AAC/U           155.0        75555.0      75710.0\n",
              "           AACG          63409.0       249707.0     335763.0\n",
              "...                          ...            ...          ...\n",
              "2021-02-18 ZVO           15323.0        25170.0      40768.0\n",
              "           ZWRKU          4678.0        11205.0      16083.0\n",
              "           ZYME           7359.0        36507.0      44380.0\n",
              "           ZYNE         556884.0      1621489.0    2204717.0\n",
              "           ZYXI           8126.0        47741.0      55867.0\n",
              "\n",
              "[25419 rows x 3 columns]"
            ]
          },
          "metadata": {
            "tags": []
          },
          "execution_count": 75
        }
      ]
    },
    {
      "cell_type": "markdown",
      "metadata": {
        "id": "EQLoXfe3LA4N"
      },
      "source": [
        "Check what stocks had a short volume increase 3 days in a row."
      ]
    },
    {
      "cell_type": "code",
      "metadata": {
        "id": "a-DLkt1PRdJb"
      },
      "source": [
        "df['VolumeDivDay'] = df['ShortVolume_x'] - df.groupby(level=1)['ShortVolume_x'].shift()\r\n",
        "df['VolumeDivDayBefore'] = df['ShortVolume_y'] - df.groupby(level=1)['ShortVolume_y'].shift()\r\n",
        "df['VolumeDivDayBeforeBefore'] = df['ShortVolume'] - df.groupby(level=1)['ShortVolume'].shift()\r\n",
        "\r\n",
        "df['DipDay'] = df['VolumeDivDay'] - df.groupby(level=1)['VolumeDivDay'].shift()\r\n",
        "df['DipDayBefore'] = df['VolumeDivDayBefore'] - df.groupby(level=1)['VolumeDivDayBefore'].shift()\r\n",
        "df['DipDayBeforeBefore'] = df['VolumeDivDayBeforeBefore'] - df.groupby(level=1)['VolumeDivDayBeforeBefore'].shift()\r\n",
        "\r\n",
        "df['DifDay'] = np.where((df['VolumeDivDay'] >= df['DipDay']), df['VolumeDivDay'], np.nan)\r\n",
        "df['DifDayBefore'] = np.where((df['VolumeDivDayBefore'] >= df['DipDayBefore']), df['VolumeDivDayBefore'], np.nan)\r\n",
        "df['DifDayBeforeBefore'] = np.where((df['VolumeDivDayBeforeBefore'] >= df['DipDayBeforeBefore']), df['VolumeDivDayBeforeBefore'], np.nan)\r\n",
        " \r\n",
        "df.dropna(inplace=True)\r\n",
        "\r\n",
        "analyze = df[(df['DipDay'] > 0 )&(df['DipDayBefore'] > 0) & (df['DipDayBeforeBefore'] > 0) & (df['VolumeDivDay'] > 0 )&(df['VolumeDivDayBefore'] > 0) & (df['VolumeDivDayBeforeBefore'] > 0)]\r\n",
        "analyze = analyze.droplevel(level=0)"
      ],
      "execution_count": null,
      "outputs": []
    },
    {
      "cell_type": "code",
      "metadata": {
        "colab": {
          "base_uri": "https://localhost:8080/",
          "height": 450
        },
        "id": "BCWE6DUmrN94",
        "outputId": "fc8fa5d2-e942-48f4-e0e2-8719174ff022"
      },
      "source": [
        "analyze"
      ],
      "execution_count": null,
      "outputs": [
        {
          "output_type": "execute_result",
          "data": {
            "text/html": [
              "<div>\n",
              "<style scoped>\n",
              "    .dataframe tbody tr th:only-of-type {\n",
              "        vertical-align: middle;\n",
              "    }\n",
              "\n",
              "    .dataframe tbody tr th {\n",
              "        vertical-align: top;\n",
              "    }\n",
              "\n",
              "    .dataframe thead th {\n",
              "        text-align: right;\n",
              "    }\n",
              "</style>\n",
              "<table border=\"1\" class=\"dataframe\">\n",
              "  <thead>\n",
              "    <tr style=\"text-align: right;\">\n",
              "      <th></th>\n",
              "      <th>ShortVolume_x</th>\n",
              "      <th>ShortVolume_y</th>\n",
              "      <th>ShortVolume</th>\n",
              "      <th>VolumeDivDay</th>\n",
              "      <th>VolumeDivDayBefore</th>\n",
              "      <th>VolumeDivDayBeforeBefore</th>\n",
              "      <th>DipDay</th>\n",
              "      <th>DipDayBefore</th>\n",
              "      <th>DipDayBeforeBefore</th>\n",
              "      <th>DifDay</th>\n",
              "      <th>DifDayBefore</th>\n",
              "      <th>DifDayBeforeBefore</th>\n",
              "    </tr>\n",
              "    <tr>\n",
              "      <th>Symbol</th>\n",
              "      <th></th>\n",
              "      <th></th>\n",
              "      <th></th>\n",
              "      <th></th>\n",
              "      <th></th>\n",
              "      <th></th>\n",
              "      <th></th>\n",
              "      <th></th>\n",
              "      <th></th>\n",
              "      <th></th>\n",
              "      <th></th>\n",
              "      <th></th>\n",
              "    </tr>\n",
              "  </thead>\n",
              "  <tbody>\n",
              "    <tr>\n",
              "      <th>AAWW</th>\n",
              "      <td>9644.0</td>\n",
              "      <td>109944.0</td>\n",
              "      <td>119688.0</td>\n",
              "      <td>2903.0</td>\n",
              "      <td>61010.0</td>\n",
              "      <td>63350.0</td>\n",
              "      <td>910.0</td>\n",
              "      <td>39825.0</td>\n",
              "      <td>39719.0</td>\n",
              "      <td>2903.0</td>\n",
              "      <td>61010.0</td>\n",
              "      <td>63350.0</td>\n",
              "    </tr>\n",
              "    <tr>\n",
              "      <th>ABMD</th>\n",
              "      <td>6790.0</td>\n",
              "      <td>40703.0</td>\n",
              "      <td>47594.0</td>\n",
              "      <td>4392.0</td>\n",
              "      <td>11185.0</td>\n",
              "      <td>15662.0</td>\n",
              "      <td>3618.0</td>\n",
              "      <td>7932.0</td>\n",
              "      <td>11681.0</td>\n",
              "      <td>4392.0</td>\n",
              "      <td>11185.0</td>\n",
              "      <td>15662.0</td>\n",
              "    </tr>\n",
              "    <tr>\n",
              "      <th>ADAP</th>\n",
              "      <td>96215.0</td>\n",
              "      <td>424489.0</td>\n",
              "      <td>520804.0</td>\n",
              "      <td>25725.0</td>\n",
              "      <td>140751.0</td>\n",
              "      <td>164476.0</td>\n",
              "      <td>18659.0</td>\n",
              "      <td>81712.0</td>\n",
              "      <td>96631.0</td>\n",
              "      <td>25725.0</td>\n",
              "      <td>140751.0</td>\n",
              "      <td>164476.0</td>\n",
              "    </tr>\n",
              "    <tr>\n",
              "      <th>ANET</th>\n",
              "      <td>14508.0</td>\n",
              "      <td>102897.0</td>\n",
              "      <td>117542.0</td>\n",
              "      <td>7798.0</td>\n",
              "      <td>22111.0</td>\n",
              "      <td>30010.0</td>\n",
              "      <td>6863.0</td>\n",
              "      <td>7004.0</td>\n",
              "      <td>13982.0</td>\n",
              "      <td>7798.0</td>\n",
              "      <td>22111.0</td>\n",
              "      <td>30010.0</td>\n",
              "    </tr>\n",
              "    <tr>\n",
              "      <th>ARR</th>\n",
              "      <td>81803.0</td>\n",
              "      <td>360288.0</td>\n",
              "      <td>442091.0</td>\n",
              "      <td>42047.0</td>\n",
              "      <td>231101.0</td>\n",
              "      <td>265346.0</td>\n",
              "      <td>21336.0</td>\n",
              "      <td>173190.0</td>\n",
              "      <td>179422.0</td>\n",
              "      <td>42047.0</td>\n",
              "      <td>231101.0</td>\n",
              "      <td>265346.0</td>\n",
              "    </tr>\n",
              "    <tr>\n",
              "      <th>...</th>\n",
              "      <td>...</td>\n",
              "      <td>...</td>\n",
              "      <td>...</td>\n",
              "      <td>...</td>\n",
              "      <td>...</td>\n",
              "      <td>...</td>\n",
              "      <td>...</td>\n",
              "      <td>...</td>\n",
              "      <td>...</td>\n",
              "      <td>...</td>\n",
              "      <td>...</td>\n",
              "      <td>...</td>\n",
              "    </tr>\n",
              "    <tr>\n",
              "      <th>VNQI</th>\n",
              "      <td>24299.0</td>\n",
              "      <td>106249.0</td>\n",
              "      <td>130552.0</td>\n",
              "      <td>7453.0</td>\n",
              "      <td>35352.0</td>\n",
              "      <td>42759.0</td>\n",
              "      <td>3726.0</td>\n",
              "      <td>10584.0</td>\n",
              "      <td>14221.0</td>\n",
              "      <td>7453.0</td>\n",
              "      <td>35352.0</td>\n",
              "      <td>42759.0</td>\n",
              "    </tr>\n",
              "    <tr>\n",
              "      <th>WGO</th>\n",
              "      <td>14999.0</td>\n",
              "      <td>145783.0</td>\n",
              "      <td>160782.0</td>\n",
              "      <td>11715.0</td>\n",
              "      <td>98954.0</td>\n",
              "      <td>110569.0</td>\n",
              "      <td>11643.0</td>\n",
              "      <td>92233.0</td>\n",
              "      <td>103677.0</td>\n",
              "      <td>11715.0</td>\n",
              "      <td>98954.0</td>\n",
              "      <td>110569.0</td>\n",
              "    </tr>\n",
              "    <tr>\n",
              "      <th>WIX</th>\n",
              "      <td>96451.0</td>\n",
              "      <td>1048429.0</td>\n",
              "      <td>1144987.0</td>\n",
              "      <td>68979.0</td>\n",
              "      <td>669545.0</td>\n",
              "      <td>737178.0</td>\n",
              "      <td>49885.0</td>\n",
              "      <td>450983.0</td>\n",
              "      <td>498657.0</td>\n",
              "      <td>68979.0</td>\n",
              "      <td>669545.0</td>\n",
              "      <td>737178.0</td>\n",
              "    </tr>\n",
              "    <tr>\n",
              "      <th>YINN</th>\n",
              "      <td>90262.0</td>\n",
              "      <td>222528.0</td>\n",
              "      <td>314422.0</td>\n",
              "      <td>38056.0</td>\n",
              "      <td>63373.0</td>\n",
              "      <td>102559.0</td>\n",
              "      <td>27260.0</td>\n",
              "      <td>41493.0</td>\n",
              "      <td>73933.0</td>\n",
              "      <td>38056.0</td>\n",
              "      <td>63373.0</td>\n",
              "      <td>102559.0</td>\n",
              "    </tr>\n",
              "    <tr>\n",
              "      <th>ZYNE</th>\n",
              "      <td>556884.0</td>\n",
              "      <td>1621489.0</td>\n",
              "      <td>2204717.0</td>\n",
              "      <td>292791.0</td>\n",
              "      <td>1026569.0</td>\n",
              "      <td>1332455.0</td>\n",
              "      <td>212555.0</td>\n",
              "      <td>886686.0</td>\n",
              "      <td>1120928.0</td>\n",
              "      <td>292791.0</td>\n",
              "      <td>1026569.0</td>\n",
              "      <td>1332455.0</td>\n",
              "    </tr>\n",
              "  </tbody>\n",
              "</table>\n",
              "<p>105 rows × 12 columns</p>\n",
              "</div>"
            ],
            "text/plain": [
              "        ShortVolume_x  ShortVolume_y  ...  DifDayBefore  DifDayBeforeBefore\n",
              "Symbol                                ...                                  \n",
              "AAWW           9644.0       109944.0  ...       61010.0             63350.0\n",
              "ABMD           6790.0        40703.0  ...       11185.0             15662.0\n",
              "ADAP          96215.0       424489.0  ...      140751.0            164476.0\n",
              "ANET          14508.0       102897.0  ...       22111.0             30010.0\n",
              "ARR           81803.0       360288.0  ...      231101.0            265346.0\n",
              "...               ...            ...  ...           ...                 ...\n",
              "VNQI          24299.0       106249.0  ...       35352.0             42759.0\n",
              "WGO           14999.0       145783.0  ...       98954.0            110569.0\n",
              "WIX           96451.0      1048429.0  ...      669545.0            737178.0\n",
              "YINN          90262.0       222528.0  ...       63373.0            102559.0\n",
              "ZYNE         556884.0      1621489.0  ...     1026569.0           1332455.0\n",
              "\n",
              "[105 rows x 12 columns]"
            ]
          },
          "metadata": {
            "tags": []
          },
          "execution_count": 77
        }
      ]
    },
    {
      "cell_type": "code",
      "metadata": {
        "id": "Vc6YFInNqvIg"
      },
      "source": [
        "results = pd.DataFrame(columns=['Price','Diff','Diff1'])\r\n",
        "\r\n",
        "ticker_list = analyze.index.tolist()\r\n",
        "\r\n",
        "for ticker in ticker_list:\r\n",
        "    try:\r\n",
        "      data = pdr.get_data_yahoo(ticker, start=datetime.strptime(date_before_before, '%Y%m%d').date(), end=datetime.strptime(date_start, '%Y%m%d').date())\r\n",
        "      temp = pd.DataFrame(\r\n",
        "          {\r\n",
        "            'Price': data.Close.iloc[-1],                     \r\n",
        "            'Diff': data.Close.iloc[1] - data.Close.iloc[0],\r\n",
        "            'Diff1': data.Close.iloc[2] - data.Close.iloc[1]\r\n",
        "          }, index=[ticker]\r\n",
        "      )\r\n",
        "      results = pd.concat([results, temp])\r\n",
        "      results.dropna(inplace=True)\r\n",
        "    except Exception:\r\n",
        "      pass"
      ],
      "execution_count": null,
      "outputs": []
    },
    {
      "cell_type": "code",
      "metadata": {
        "id": "RWGEpnQC3iqc"
      },
      "source": [
        "ana = results[(((results['Diff'] > 0) & (results['Diff1'] > 0)) | ((results['Diff'] < 0 ) & (results['Diff1'] < 0))) ]\r\n",
        "ana.drop(['Diff','Diff1'], axis=1, inplace=True)\r\n",
        "indexes = ana.index.tolist()\r\n",
        "ana"
      ],
      "execution_count": null,
      "outputs": []
    },
    {
      "cell_type": "markdown",
      "metadata": {
        "id": "FZeNBZ4dAVlB"
      },
      "source": [
        "Comparing patterns with FinViz data"
      ]
    },
    {
      "cell_type": "code",
      "metadata": {
        "id": "cwitkfpoRC6a"
      },
      "source": [
        "filters_stock = ['cap_smallover','sh_curvol_o300','sh_price_o3','sh_relvol_o1','sh_short_o10']  \r\n",
        "stock_list = Screener(filters=filters_stock, table='Performance', order='price') \r\n",
        "stock_list.to_csv(\"stocks_long.csv\")\r\n",
        "stocks_long = pd.read_csv('stocks_long.csv', index_col=['Ticker'])\r\n",
        "\r\n",
        "indexes_filters = stocks_long.index.tolist()"
      ],
      "execution_count": null,
      "outputs": []
    },
    {
      "cell_type": "code",
      "metadata": {
        "colab": {
          "base_uri": "https://localhost:8080/"
        },
        "id": "VDsDsyVBkmId",
        "outputId": "c7c2ef52-4198-4406-973d-69a4087f3cdd"
      },
      "source": [
        "#Tickers that are from Finra and match parameters from finviz\r\n",
        "tickers_to_watch = list(set(indexes).intersection(indexes_filters))\r\n",
        "tickers_to_watch"
      ],
      "execution_count": null,
      "outputs": [
        {
          "output_type": "execute_result",
          "data": {
            "text/plain": [
              "['CRMD', 'SBH', 'ADAP']"
            ]
          },
          "metadata": {
            "tags": []
          },
          "execution_count": 84
        }
      ]
    },
    {
      "cell_type": "code",
      "metadata": {
        "colab": {
          "base_uri": "https://localhost:8080/",
          "height": 965
        },
        "id": "z_U0hngqkvSx",
        "outputId": "520079f9-40ba-4d69-d237-d054f7ba4d0d"
      },
      "source": [
        "for ticker in tickers_to_watch:\r\n",
        "    data = pdr.get_data_yahoo(ticker, start=datetime.strptime(date_before_before, '%Y%m%d').date()-timedelta(days=14), end=datetime.strptime(date_start, '%Y%m%d').date())\r\n",
        "    plt.figure()\r\n",
        "    sns.lineplot(data=data, x=\"Date\", y=\"Close\").set_title(ticker)\r\n",
        "    plt.xticks(rotation=45)"
      ],
      "execution_count": null,
      "outputs": [
        {
          "output_type": "display_data",
          "data": {
            "image/png": "[encoded data removed]",
            "text/plain": [
              "<Figure size 432x288 with 1 Axes>"
            ]
          },
          "metadata": {
            "tags": []
          }
        },
        {
          "output_type": "display_data",
          "data": {
            "image/png": "[encoded data removed]",
            "text/plain": [
              "<Figure size 432x288 with 1 Axes>"
            ]
          },
          "metadata": {
            "tags": []
          }
        },
        {
          "output_type": "display_data",
          "data": {
            "image/png": "[encoded data removed]",
            "text/plain": [
              "<Figure size 432x288 with 1 Axes>"
            ]
          },
          "metadata": {
            "tags": []
          }
        }
      ]
    },
    {
      "cell_type": "markdown",
      "metadata": {
        "id": "AzY9M1Ml-yAR"
      },
      "source": [
        "Checking prices of the previously acuired tickers to see how the price changed the following day and setting an optimal take profit if we decided to open a trade."
      ]
    },
    {
      "cell_type": "code",
      "metadata": {
        "colab": {
          "base_uri": "https://localhost:8080/",
          "height": 142
        },
        "id": "fRIm6KLY_BHe",
        "outputId": "2037cf8d-a2a6-402b-8c15-1d03d42cd8fa"
      },
      "source": [
        "results = pd.DataFrame(columns=['PriceYesterday','PriceToday','DifOpenAndTodayHigh'])\r\n",
        "\r\n",
        "tickers_to_watch = ['CRMD', 'SBH', 'ADAP']\r\n",
        "\r\n",
        "for ticker in tickers_to_watch:\r\n",
        "    data = pdr.get_data_yahoo(ticker, start='2021-02-18', end='2021-02-19')\r\n",
        "    temp = pd.DataFrame(\r\n",
        "          {\r\n",
        "            'PriceYesterday': data.Close.iloc[0],                     \r\n",
        "            'PriceToday': data.Close.iloc[1],\r\n",
        "            'DifOpenAndTodayHigh': data.High.iloc[1] - data.Open.iloc[1]\r\n",
        "          }, index=[ticker]\r\n",
        "    )\r\n",
        "    results = pd.concat([results, temp])\r\n",
        "    \r\n",
        "results['DifPercent'] = results.DifOpenAndTodayHigh/results.PriceToday\r\n",
        "results  "
      ],
      "execution_count": null,
      "outputs": [
        {
          "output_type": "execute_result",
          "data": {
            "text/html": [
              "<div>\n",
              "<style scoped>\n",
              "    .dataframe tbody tr th:only-of-type {\n",
              "        vertical-align: middle;\n",
              "    }\n",
              "\n",
              "    .dataframe tbody tr th {\n",
              "        vertical-align: top;\n",
              "    }\n",
              "\n",
              "    .dataframe thead th {\n",
              "        text-align: right;\n",
              "    }\n",
              "</style>\n",
              "<table border=\"1\" class=\"dataframe\">\n",
              "  <thead>\n",
              "    <tr style=\"text-align: right;\">\n",
              "      <th></th>\n",
              "      <th>PriceYesterday</th>\n",
              "      <th>PriceToday</th>\n",
              "      <th>DifOpenAndTodayHigh</th>\n",
              "      <th>DifPercent</th>\n",
              "    </tr>\n",
              "  </thead>\n",
              "  <tbody>\n",
              "    <tr>\n",
              "      <th>CRMD</th>\n",
              "      <td>16.25</td>\n",
              "      <td>17.58</td>\n",
              "      <td>2.099998</td>\n",
              "      <td>0.119454</td>\n",
              "    </tr>\n",
              "    <tr>\n",
              "      <th>SBH</th>\n",
              "      <td>15.87</td>\n",
              "      <td>15.70</td>\n",
              "      <td>0.190001</td>\n",
              "      <td>0.012102</td>\n",
              "    </tr>\n",
              "    <tr>\n",
              "      <th>ADAP</th>\n",
              "      <td>5.98</td>\n",
              "      <td>6.29</td>\n",
              "      <td>0.270000</td>\n",
              "      <td>0.042925</td>\n",
              "    </tr>\n",
              "  </tbody>\n",
              "</table>\n",
              "</div>"
            ],
            "text/plain": [
              "      PriceYesterday  PriceToday  DifOpenAndTodayHigh  DifPercent\n",
              "CRMD           16.25       17.58             2.099998    0.119454\n",
              "SBH            15.87       15.70             0.190001    0.012102\n",
              "ADAP            5.98        6.29             0.270000    0.042925"
            ]
          },
          "metadata": {
            "tags": []
          },
          "execution_count": 39
        }
      ]
    },
    {
      "cell_type": "code",
      "metadata": {
        "colab": {
          "base_uri": "https://localhost:8080/"
        },
        "id": "yixVgD8VBOqR",
        "outputId": "f366eaec-9d0b-4f70-fc5b-b614381ec803"
      },
      "source": [
        "print('Place Take Profit at ' + str(round(results.DifPercent.mean()*100, 2)) + '%')"
      ],
      "execution_count": null,
      "outputs": [
        {
          "output_type": "stream",
          "text": [
            "Place Take Profit at 5.82%\n"
          ],
          "name": "stdout"
        }
      ]
    },
    {
      "cell_type": "markdown",
      "metadata": {
        "id": "59LUJoAkIJoc"
      },
      "source": [
        "#2 out of 3 stocks closed higher than they did yesterday and all of them had positive highs, so if we to implement that strategy we need to place a take profit on the opening of the market at 5%."
      ]
    }
  ]
}